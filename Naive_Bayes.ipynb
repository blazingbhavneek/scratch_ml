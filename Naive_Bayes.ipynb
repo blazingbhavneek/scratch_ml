{
  "nbformat": 4,
  "nbformat_minor": 0,
  "metadata": {
    "colab": {
      "provenance": [],
      "authorship_tag": "ABX9TyPTQFvNuHaPEqTBh1sSonT+",
      "include_colab_link": true
    },
    "kernelspec": {
      "name": "python3",
      "display_name": "Python 3"
    },
    "language_info": {
      "name": "python"
    }
  },
  "cells": [
    {
      "cell_type": "markdown",
      "metadata": {
        "id": "view-in-github",
        "colab_type": "text"
      },
      "source": [
        "<a href=\"https://colab.research.google.com/github/blazingbhavneek/scratch_ml/blob/main/Naive_Bayes.ipynb\" target=\"_parent\"><img src=\"https://colab.research.google.com/assets/colab-badge.svg\" alt=\"Open In Colab\"/></a>"
      ]
    },
    {
      "cell_type": "code",
      "execution_count": 1,
      "metadata": {
        "id": "3SqdTLeFWTnA"
      },
      "outputs": [],
      "source": [
        "import numpy as np\n",
        "from sklearn import datasets\n",
        "from sklearn.model_selection import train_test_split\n",
        "import matplotlib.pyplot as plt\n",
        "from scipy.stats import"
      ]
    },
    {
      "cell_type": "code",
      "source": [
        "x, y = datasets.make_classification(n_samples=100, n_features=5, n_informative=3, n_redundant=2, n_clusters_per_class=1, n_classes=3, random_state=42)\n",
        "\n",
        "x_train, x_test, y_train, y_test = train_test_split(x, y, test_size=0.2, random_state=42)"
      ],
      "metadata": {
        "id": "deaFU9tqXUxx"
      },
      "execution_count": 2,
      "outputs": []
    },
    {
      "cell_type": "code",
      "source": [
        "print(x.shape)\n",
        "print(y.shape)"
      ],
      "metadata": {
        "colab": {
          "base_uri": "https://localhost:8080/"
        },
        "id": "iDUI4McxZTL0",
        "outputId": "04a496da-4155-415f-a425-ae3c76e95b4e"
      },
      "execution_count": 8,
      "outputs": [
        {
          "output_type": "stream",
          "name": "stdout",
          "text": [
            "(100, 5)\n",
            "(100,)\n"
          ]
        }
      ]
    },
    {
      "cell_type": "code",
      "source": [
        "n_classes = len(np.unique(y))\n",
        "n_classes"
      ],
      "metadata": {
        "colab": {
          "base_uri": "https://localhost:8080/"
        },
        "id": "3MwOJBgvXpWj",
        "outputId": "833fb898-d5ab-4ce3-c189-d89bd901a1d8"
      },
      "execution_count": 5,
      "outputs": [
        {
          "output_type": "execute_result",
          "data": {
            "text/plain": [
              "3"
            ]
          },
          "metadata": {},
          "execution_count": 5
        }
      ]
    },
    {
      "cell_type": "code",
      "source": [
        "class NaiveBayes:\n",
        "  def __init__(self):\n",
        "    self.n_feat=None\n",
        "    self.n_class=None\n",
        "\n",
        "  def fit(self, x, y):\n",
        "    self.n_class = np.unique(y)\n",
        "    self.n_feat = x.shape[1]\n",
        "    self.priors = {}\n",
        "    self.means = np.zeros((len(self.n_class), self.n_feat))\n",
        "    self.vars = np.zeros((len(self.n_class), self.n_feat))\n",
        "\n",
        "    for i in y:\n",
        "      if i in self.priors:\n",
        "        self.priors[i]=1\n",
        "      else:\n",
        "        self.priors[i]+=1\n",
        "\n",
        "    for i in range(self.n_feat):\n",
        "      for j in self.n_class:\n",
        "        lst = []\n",
        "        for k in range(x.shape[0]):\n",
        "          if y[k]==j:\n",
        "            lst.append(x[i])\n",
        "        lst = np.array(lst)\n",
        "        self.means[j][i] = np.mean(lst)\n",
        "        self.vars[j][i] = np.var(lst)\n",
        "\n",
        "  def predict(self, x, y):\n",
        "    acc=0\n",
        "    cnt=0\n",
        "    for i in range(x.shape[0]):\n",
        "      cnt+=1\n",
        "      xi = x[i]\n",
        "      yi = y[i]\n",
        "\n",
        ""
      ],
      "metadata": {
        "id": "XG7AF-VoXsi6"
      },
      "execution_count": null,
      "outputs": []
    }
  ]
}