{
  "nbformat": 4,
  "nbformat_minor": 0,
  "metadata": {
    "colab": {
      "provenance": [],
      "authorship_tag": "ABX9TyMgeHSGXReglNLwC88cvbVK",
      "include_colab_link": true
    },
    "kernelspec": {
      "name": "python3",
      "display_name": "Python 3"
    },
    "language_info": {
      "name": "python"
    }
  },
  "cells": [
    {
      "cell_type": "markdown",
      "metadata": {
        "id": "view-in-github",
        "colab_type": "text"
      },
      "source": [
        "<a href=\"https://colab.research.google.com/github/blazingbhavneek/scratch_ml/blob/main/Naive_Bayes.ipynb\" target=\"_parent\"><img src=\"https://colab.research.google.com/assets/colab-badge.svg\" alt=\"Open In Colab\"/></a>"
      ]
    },
    {
      "cell_type": "code",
      "execution_count": 1,
      "metadata": {
        "id": "3SqdTLeFWTnA"
      },
      "outputs": [],
      "source": [
        "import numpy as np\n",
        "from sklearn import datasets\n",
        "from sklearn.model_selection import train_test_split\n",
        "import matplotlib.pyplot as plt\n",
        "from scipy.stats import norm"
      ]
    },
    {
      "cell_type": "code",
      "source": [
        "x, y = datasets.make_classification(n_samples=500, n_features=5, n_informative=3, n_redundant=2, n_clusters_per_class=1, n_classes=3, random_state=42)\n",
        "\n",
        "x_train, x_test, y_train, y_test = train_test_split(x, y, test_size=0.2, random_state=42)"
      ],
      "metadata": {
        "id": "deaFU9tqXUxx"
      },
      "execution_count": 2,
      "outputs": []
    },
    {
      "cell_type": "code",
      "source": [
        "print(x.shape)\n",
        "print(y.shape)"
      ],
      "metadata": {
        "colab": {
          "base_uri": "https://localhost:8080/"
        },
        "id": "iDUI4McxZTL0",
        "outputId": "53a22b07-d4b4-4dcd-bc92-1ae01ccc878c"
      },
      "execution_count": 3,
      "outputs": [
        {
          "output_type": "stream",
          "name": "stdout",
          "text": [
            "(500, 5)\n",
            "(500,)\n"
          ]
        }
      ]
    },
    {
      "cell_type": "code",
      "source": [
        "class NaiveBayes:\n",
        "  def __init__(self):\n",
        "    self.n_feat=None\n",
        "    self.n_class=None\n",
        "\n",
        "  def fit(self, x, y):\n",
        "    self.n_class = np.unique(y)\n",
        "    self.n_feat = x.shape[1]\n",
        "    self.priors = np.zeros(len(self.n_class))\n",
        "    self.means = np.zeros((len(self.n_class), self.n_feat))\n",
        "    self.vars = np.zeros((len(self.n_class), self.n_feat))\n",
        "\n",
        "\n",
        "    for i in y:\n",
        "      self.priors[i]+=1/x.shape[0]\n",
        "\n",
        "    for i in range(self.n_feat):\n",
        "      for j in self.n_class:\n",
        "        lst = []\n",
        "        for k in range(x.shape[0]):\n",
        "          if y[k]==j:\n",
        "            lst.append(x[i])\n",
        "        lst = np.array(lst)\n",
        "        self.means[j][i] = np.mean(lst)\n",
        "        self.vars[j][i] = np.var(lst)\n",
        "\n",
        "  def predict(self, x, y):\n",
        "    acc=0\n",
        "    cnt=0\n",
        "    for i in range(x.shape[0]):\n",
        "      cnt+=1\n",
        "      prob = np.zeros(len(self.n_class))\n",
        "      for j in range(x.shape[1]):\n",
        "        for k in range(len(self.n_class)):\n",
        "          prob[k] += norm.cdf(x[i][j], loc=self.means[k][j], scale=self.vars[k][j])*self.priors[k]\n",
        "      pred=np.argmax(prob)\n",
        "      if pred==y[i]:\n",
        "        acc+=1\n",
        "    print(\"Accuracy: {:.2f}\".format(acc/cnt*100))"
      ],
      "metadata": {
        "id": "XG7AF-VoXsi6"
      },
      "execution_count": 4,
      "outputs": []
    },
    {
      "cell_type": "code",
      "source": [
        "model = NaiveBayes()"
      ],
      "metadata": {
        "id": "dJR4rJbngtNd"
      },
      "execution_count": 5,
      "outputs": []
    },
    {
      "cell_type": "code",
      "source": [
        "model.fit(x_train, y_train)"
      ],
      "metadata": {
        "id": "Jd8-ubpuguDB"
      },
      "execution_count": 6,
      "outputs": []
    },
    {
      "cell_type": "code",
      "source": [
        "model.predict(x_test, y_test)"
      ],
      "metadata": {
        "colab": {
          "base_uri": "https://localhost:8080/"
        },
        "id": "UB3Wvs90g2ds",
        "outputId": "acb54bbd-84a7-45d1-e4bd-09e221c63676"
      },
      "execution_count": 7,
      "outputs": [
        {
          "output_type": "stream",
          "name": "stdout",
          "text": [
            "Accuracy: 28.00\n"
          ]
        }
      ]
    },
    {
      "cell_type": "code",
      "source": [],
      "metadata": {
        "id": "yc1ODxk_iBOa"
      },
      "execution_count": 7,
      "outputs": []
    }
  ]
}