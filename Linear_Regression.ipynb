{
  "nbformat": 4,
  "nbformat_minor": 0,
  "metadata": {
    "colab": {
      "provenance": [],
      "authorship_tag": "ABX9TyOjU8iuDzvpNA22dLcgeTZp",
      "include_colab_link": true
    },
    "kernelspec": {
      "name": "python3",
      "display_name": "Python 3"
    },
    "language_info": {
      "name": "python"
    }
  },
  "cells": [
    {
      "cell_type": "markdown",
      "metadata": {
        "id": "view-in-github",
        "colab_type": "text"
      },
      "source": [
        "<a href=\"https://colab.research.google.com/github/blazingbhavneek/scratch_ml/blob/main/Linear_Regression.ipynb\" target=\"_parent\"><img src=\"https://colab.research.google.com/assets/colab-badge.svg\" alt=\"Open In Colab\"/></a>"
      ]
    },
    {
      "cell_type": "code",
      "execution_count": 1,
      "metadata": {
        "id": "OO5j_p6Vmj46"
      },
      "outputs": [],
      "source": [
        "import numpy as np\n",
        "from sklearn import datasets\n",
        "from sklearn.model_selection import train_test_split\n",
        "import matplotlib\n",
        "import matplotlib.pyplot as plt"
      ]
    },
    {
      "cell_type": "code",
      "source": [
        "x, y = datasets.make_regression(n_samples=100, n_features=3, n_targets=2, noise=20, random_state=42)\n",
        "x_train, x_test, y_train, y_test = train_test_split(x, y, test_size=0.2, random_state=42)"
      ],
      "metadata": {
        "id": "4tlXfTfhodb2"
      },
      "execution_count": 16,
      "outputs": []
    },
    {
      "cell_type": "code",
      "source": [
        "class LinearRegression:\n",
        "  def __init__(self, lr=0.0001, epochs=10000):\n",
        "    self.lr=lr\n",
        "    self.epochs=epochs\n",
        "    self.weights=None\n",
        "    self.bias=None\n",
        "\n",
        "  def fit(self, x, y):\n",
        "    # print(x.shape)\n",
        "    # print(y.shape)\n",
        "    self.weights = np.random.rand(x.shape[1], y.shape[1])\n",
        "    self.bias = np.random.rand(1, y.shape[1])\n",
        "\n",
        "    y_hat = np.matmul(x, self.weights)+self.bias\n",
        "    diff = y_hat-y\n",
        "\n",
        "    for e in range(self.epochs):\n",
        "      dw=np.zeros((x.shape[1], y.shape[1]))\n",
        "      db=np.zeros(self.bias.shape)\n",
        "      for i in range(x.shape[0]):\n",
        "        # print(x[i].shape)\n",
        "        # print(diff[i].shape)\n",
        "        dw+=np.outer(x[i], diff[i])\n",
        "        db+=diff[i]\n",
        "      dw/=x.shape[0]\n",
        "      db/=x.shape[0]\n",
        "      self.weights-=self.lr*dw\n",
        "      self.bias-=self.lr*db\n",
        "\n",
        "  def predict(self, x, y):\n",
        "    y_hat = np.matmul(x, self.weights)+self.bias\n",
        "    diff = y_hat-y\n",
        "    diff=np.square(np.sum(diff, axis=0))\n",
        "    diff/=x.shape[0]\n",
        "    diff=np.sqrt(diff)\n",
        "    for i in range(diff.shape[0]):\n",
        "      print(\"RMSE for\", i, \"th feature is: \", diff[i])\n",
        "    return y_hat"
      ],
      "metadata": {
        "id": "sbKe6E3RnPsj"
      },
      "execution_count": 61,
      "outputs": []
    },
    {
      "cell_type": "code",
      "source": [
        "model = LinearRegression()"
      ],
      "metadata": {
        "id": "IXS7lMQisA72"
      },
      "execution_count": 65,
      "outputs": []
    },
    {
      "cell_type": "code",
      "source": [
        "model.fit(x_train, y_train)"
      ],
      "metadata": {
        "id": "MzmMfyTRsDUU"
      },
      "execution_count": 66,
      "outputs": []
    },
    {
      "cell_type": "code",
      "source": [
        "y_hat = model.predict(x_test, y_test)"
      ],
      "metadata": {
        "colab": {
          "base_uri": "https://localhost:8080/"
        },
        "id": "OyPoSbP4sGBm",
        "outputId": "52e37a27-35f3-4c30-ae97-10566343003f"
      },
      "execution_count": 67,
      "outputs": [
        {
          "output_type": "stream",
          "name": "stdout",
          "text": [
            "RMSE for 0 th feature is:  67.5349258085624\n",
            "RMSE for 1 th feature is:  46.62847210744861\n"
          ]
        }
      ]
    },
    {
      "cell_type": "code",
      "source": [],
      "metadata": {
        "id": "4Xxgiiqmu187"
      },
      "execution_count": 67,
      "outputs": []
    }
  ]
}